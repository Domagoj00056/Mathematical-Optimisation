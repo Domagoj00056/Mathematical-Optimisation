{
 "cells": [
  {
   "cell_type": "code",
   "execution_count": 6,
   "id": "e676f46a",
   "metadata": {},
   "outputs": [
    {
     "name": "stdout",
     "output_type": "stream",
     "text": [
      "Round1 xbest 0.7504836550165999 ybest 0.5036770758148317 fbest 2.7750128065690576 zbest 0.5036770758148317\n",
      "Round2 xbest -0.9590360520796111 ybest 0.9323372525319866 fbest 2.9524308724931627 zbest 0.9323372525319866\n"
     ]
    }
   ],
   "source": [
    "import random, numpy, math\n",
    "\n",
    "xbest = random.uniform(-1,1)\n",
    "ybest = random.uniform(-1,1) \n",
    "zbest = random.uniform(-1,1)\n",
    "\n",
    "fbest = 2*math.sin(math.cos(5*xbest+5*ybest))+zbest*math.sin(math.cos(11*zbest))-0.5*xbest*math.cos(7*ybest)-(xbest**3+ybest**2+zbest)/10\n",
    "\n",
    "for i in range(1,1000):\n",
    "    xnew = random.uniform(-1,1)\n",
    "    ynew = random.uniform(-1,1)\n",
    "    znew = random.uniform(-1,1)\n",
    "    fnew =  2*math.sin(math.cos(5*xnew+5*ynew))+znew*math.sin(math.cos(11*znew))-0.5*xnew*math.cos(7*ynew)-(xnew**3+ynew**2+znew)/10\n",
    "    if fnew > fbest:\n",
    "        xbest = xnew\n",
    "        ybest = ynew\n",
    "        zbest = ynew\n",
    "        fbest = fnew\n",
    "print (\"Round1\",'xbest' , xbest, 'ybest' , ybest, 'fbest', fbest, 'zbest', zbest)\n",
    "\n",
    "for i in range(1,1000000): #running 2x\n",
    "    xnew = random.uniform(-1,1)\n",
    "    ynew = random.uniform(-1,1)\n",
    "    znew = random.uniform(-1,1)\n",
    "    fnew =  2*math.sin(math.cos(5*xnew+5*ynew))+znew*math.sin(math.cos(11*znew))-0.5*xnew*math.cos(7*ynew)-(xnew**3+ynew**2+znew)/10\n",
    "    if fnew > fbest:\n",
    "        xbest = xnew\n",
    "        ybest = ynew\n",
    "        zbest = ynew\n",
    "        fbest = fnew\n",
    "print (\"Round2\",'xbest' , xbest, 'ybest' , ybest, 'fbest', fbest, 'zbest', zbest)\n"
   ]
  },
  {
   "cell_type": "markdown",
   "id": "c0110568",
   "metadata": {},
   "source": [
    "Since we have function with three variables I decided to use Random search method. For this method I used programing language python. I randomly generated valuse between \"-1\" and \"1\" (which was in our case our boundary for our values), and than those generated values put into function to create our starting value for function. Then I wrote \"for loop\" which whill again randomly generate values and put it to our function. If the new value is bigger than the inicial one, than the new value becomes our best value for the function. We will repeat this process \"n\" times where \"n\" is the last number in the bracket. Finally, we have \"Print\" function which will then print out our best value for function and values that generated it.\n",
    "\n",
    "This method, as any other method, has its strenghts and weeknesses. The strenghts are that the code is pretty straight forward, we get our results quicky and it could be used for finding optimal solutions for functions with as many variables as we would like, all while being pretty accurate. The weakenss is that since we are randomly generating values we might not get the most optimal solution every time. With that said, with large enough numnber of attempts(\"n\" in \"for loop\") we can constantly get accurate solution to as many decimal places as we would like and I showed that by having two for loops where second one has bigger \"n\" and hence generates more optimal solution, every time we fun this program. "
   ]
  }
 ],
 "metadata": {
  "kernelspec": {
   "display_name": "Python 3 (ipykernel)",
   "language": "python",
   "name": "python3"
  },
  "language_info": {
   "codemirror_mode": {
    "name": "ipython",
    "version": 3
   },
   "file_extension": ".py",
   "mimetype": "text/x-python",
   "name": "python",
   "nbconvert_exporter": "python",
   "pygments_lexer": "ipython3",
   "version": "3.9.12"
  }
 },
 "nbformat": 4,
 "nbformat_minor": 5
}
